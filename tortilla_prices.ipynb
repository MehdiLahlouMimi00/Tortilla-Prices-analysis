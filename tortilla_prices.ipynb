{
 "cells": [
  {
   "cell_type": "markdown",
   "metadata": {},
   "source": [
    "\n",
    "## **The Dataset**\n",
    "\n",
    "This dataset consists of 270k+ records of tortilla prices from Mexico's national System of Information and Market Integration, which surveys 53 cities, 384 mom-and-pop stores, and 120 retail stores that sell \"tortillas\" throughout Mexico. It contains the following columns:\n",
    "\n",
    "- `State`: State in Mexico where the city is located, all 32 states en Mexico are included in the dataset.\n",
    "- `City`: Major cities in Mexico where prices are surveyed.\n",
    "- `Year`: Year corresponding to observation.\n",
    "- `Month`: Month corresponding to observation.\n",
    "- `Day`: Day corresponding to observation.\n",
    "- `Store type`: Type of store of the surveyed prices (can be Mom and Pop Sotre or Big Retail Store).\n",
    "- `Price per kilogram`: Estimate of the prices for the type of store, day and city surveyed.\n"
   ]
  },
  {
   "cell_type": "code",
   "execution_count": 14,
   "metadata": {},
   "outputs": [],
   "source": [
    "#importing libraries\n",
    "import pandas as pd\n",
    "import matplotlib.pyplot as plt\n",
    "import numpy as np\n",
    "import seaborn as sns #Seaborn is a Python data visualization library based on matplotlib\n",
    "import missingno as msno #Missing data visualization module for Python\n",
    "import datetime as dt"
   ]
  },
  {
   "cell_type": "code",
   "execution_count": 15,
   "metadata": {},
   "outputs": [],
   "source": [
    "#Reading the data\n",
    "data = pd.read_csv('tortilla_prices.csv')"
   ]
  },
  {
   "cell_type": "code",
   "execution_count": 16,
   "metadata": {},
   "outputs": [
    {
     "data": {
      "text/html": [
       "<div>\n",
       "<style scoped>\n",
       "    .dataframe tbody tr th:only-of-type {\n",
       "        vertical-align: middle;\n",
       "    }\n",
       "\n",
       "    .dataframe tbody tr th {\n",
       "        vertical-align: top;\n",
       "    }\n",
       "\n",
       "    .dataframe thead th {\n",
       "        text-align: right;\n",
       "    }\n",
       "</style>\n",
       "<table border=\"1\" class=\"dataframe\">\n",
       "  <thead>\n",
       "    <tr style=\"text-align: right;\">\n",
       "      <th></th>\n",
       "      <th>State</th>\n",
       "      <th>City</th>\n",
       "      <th>Year</th>\n",
       "      <th>Month</th>\n",
       "      <th>Day</th>\n",
       "      <th>Store type</th>\n",
       "      <th>Price per kilogram</th>\n",
       "    </tr>\n",
       "  </thead>\n",
       "  <tbody>\n",
       "    <tr>\n",
       "      <th>0</th>\n",
       "      <td>Aguascalientes</td>\n",
       "      <td>Aguascalientes</td>\n",
       "      <td>2007</td>\n",
       "      <td>1</td>\n",
       "      <td>10</td>\n",
       "      <td>Mom and Pop Store</td>\n",
       "      <td>9.90</td>\n",
       "    </tr>\n",
       "    <tr>\n",
       "      <th>1</th>\n",
       "      <td>Baja California</td>\n",
       "      <td>Mexicali</td>\n",
       "      <td>2007</td>\n",
       "      <td>1</td>\n",
       "      <td>10</td>\n",
       "      <td>Mom and Pop Store</td>\n",
       "      <td>NaN</td>\n",
       "    </tr>\n",
       "    <tr>\n",
       "      <th>2</th>\n",
       "      <td>Baja California</td>\n",
       "      <td>Tijuana</td>\n",
       "      <td>2007</td>\n",
       "      <td>1</td>\n",
       "      <td>10</td>\n",
       "      <td>Mom and Pop Store</td>\n",
       "      <td>10.00</td>\n",
       "    </tr>\n",
       "    <tr>\n",
       "      <th>3</th>\n",
       "      <td>Baja California Sur</td>\n",
       "      <td>La Paz</td>\n",
       "      <td>2007</td>\n",
       "      <td>1</td>\n",
       "      <td>10</td>\n",
       "      <td>Mom and Pop Store</td>\n",
       "      <td>10.00</td>\n",
       "    </tr>\n",
       "    <tr>\n",
       "      <th>4</th>\n",
       "      <td>Campeche</td>\n",
       "      <td>Campeche</td>\n",
       "      <td>2007</td>\n",
       "      <td>1</td>\n",
       "      <td>10</td>\n",
       "      <td>Mom and Pop Store</td>\n",
       "      <td>10.00</td>\n",
       "    </tr>\n",
       "    <tr>\n",
       "      <th>...</th>\n",
       "      <td>...</td>\n",
       "      <td>...</td>\n",
       "      <td>...</td>\n",
       "      <td>...</td>\n",
       "      <td>...</td>\n",
       "      <td>...</td>\n",
       "      <td>...</td>\n",
       "    </tr>\n",
       "    <tr>\n",
       "      <th>278881</th>\n",
       "      <td>Veracruz</td>\n",
       "      <td>Coatzacoalcos</td>\n",
       "      <td>2024</td>\n",
       "      <td>3</td>\n",
       "      <td>1</td>\n",
       "      <td>Big Retail Store</td>\n",
       "      <td>12.50</td>\n",
       "    </tr>\n",
       "    <tr>\n",
       "      <th>278882</th>\n",
       "      <td>Veracruz</td>\n",
       "      <td>Veracruz</td>\n",
       "      <td>2024</td>\n",
       "      <td>3</td>\n",
       "      <td>1</td>\n",
       "      <td>Big Retail Store</td>\n",
       "      <td>13.57</td>\n",
       "    </tr>\n",
       "    <tr>\n",
       "      <th>278883</th>\n",
       "      <td>Veracruz</td>\n",
       "      <td>Xalapa</td>\n",
       "      <td>2024</td>\n",
       "      <td>3</td>\n",
       "      <td>1</td>\n",
       "      <td>Big Retail Store</td>\n",
       "      <td>13.97</td>\n",
       "    </tr>\n",
       "    <tr>\n",
       "      <th>278884</th>\n",
       "      <td>Yucatán</td>\n",
       "      <td>Mérida</td>\n",
       "      <td>2024</td>\n",
       "      <td>3</td>\n",
       "      <td>1</td>\n",
       "      <td>Big Retail Store</td>\n",
       "      <td>13.20</td>\n",
       "    </tr>\n",
       "    <tr>\n",
       "      <th>278885</th>\n",
       "      <td>Zacatecas</td>\n",
       "      <td>Zacatecas</td>\n",
       "      <td>2024</td>\n",
       "      <td>3</td>\n",
       "      <td>1</td>\n",
       "      <td>Big Retail Store</td>\n",
       "      <td>13.33</td>\n",
       "    </tr>\n",
       "  </tbody>\n",
       "</table>\n",
       "<p>278886 rows × 7 columns</p>\n",
       "</div>"
      ],
      "text/plain": [
       "                      State            City  Year  Month  Day  \\\n",
       "0            Aguascalientes  Aguascalientes  2007      1   10   \n",
       "1           Baja California        Mexicali  2007      1   10   \n",
       "2           Baja California         Tijuana  2007      1   10   \n",
       "3       Baja California Sur          La Paz  2007      1   10   \n",
       "4                  Campeche        Campeche  2007      1   10   \n",
       "...                     ...             ...   ...    ...  ...   \n",
       "278881             Veracruz   Coatzacoalcos  2024      3    1   \n",
       "278882             Veracruz        Veracruz  2024      3    1   \n",
       "278883             Veracruz          Xalapa  2024      3    1   \n",
       "278884              Yucatán          Mérida  2024      3    1   \n",
       "278885            Zacatecas       Zacatecas  2024      3    1   \n",
       "\n",
       "               Store type  Price per kilogram  \n",
       "0       Mom and Pop Store                9.90  \n",
       "1       Mom and Pop Store                 NaN  \n",
       "2       Mom and Pop Store               10.00  \n",
       "3       Mom and Pop Store               10.00  \n",
       "4       Mom and Pop Store               10.00  \n",
       "...                   ...                 ...  \n",
       "278881   Big Retail Store               12.50  \n",
       "278882   Big Retail Store               13.57  \n",
       "278883   Big Retail Store               13.97  \n",
       "278884   Big Retail Store               13.20  \n",
       "278885   Big Retail Store               13.33  \n",
       "\n",
       "[278886 rows x 7 columns]"
      ]
     },
     "execution_count": 16,
     "metadata": {},
     "output_type": "execute_result"
    }
   ],
   "source": [
    "data"
   ]
  },
  {
   "cell_type": "markdown",
   "metadata": {},
   "source": [
    "## Diagnosing data cleaning problems "
   ]
  },
  {
   "cell_type": "code",
   "execution_count": 17,
   "metadata": {},
   "outputs": [
    {
     "data": {
      "text/html": [
       "<div>\n",
       "<style scoped>\n",
       "    .dataframe tbody tr th:only-of-type {\n",
       "        vertical-align: middle;\n",
       "    }\n",
       "\n",
       "    .dataframe tbody tr th {\n",
       "        vertical-align: top;\n",
       "    }\n",
       "\n",
       "    .dataframe thead th {\n",
       "        text-align: right;\n",
       "    }\n",
       "</style>\n",
       "<table border=\"1\" class=\"dataframe\">\n",
       "  <thead>\n",
       "    <tr style=\"text-align: right;\">\n",
       "      <th></th>\n",
       "      <th>State</th>\n",
       "      <th>City</th>\n",
       "      <th>Year</th>\n",
       "      <th>Month</th>\n",
       "      <th>Day</th>\n",
       "      <th>Store type</th>\n",
       "      <th>Price per kilogram</th>\n",
       "    </tr>\n",
       "  </thead>\n",
       "  <tbody>\n",
       "    <tr>\n",
       "      <th>0</th>\n",
       "      <td>Aguascalientes</td>\n",
       "      <td>Aguascalientes</td>\n",
       "      <td>2007</td>\n",
       "      <td>1</td>\n",
       "      <td>10</td>\n",
       "      <td>Mom and Pop Store</td>\n",
       "      <td>9.9</td>\n",
       "    </tr>\n",
       "    <tr>\n",
       "      <th>1</th>\n",
       "      <td>Baja California</td>\n",
       "      <td>Mexicali</td>\n",
       "      <td>2007</td>\n",
       "      <td>1</td>\n",
       "      <td>10</td>\n",
       "      <td>Mom and Pop Store</td>\n",
       "      <td>NaN</td>\n",
       "    </tr>\n",
       "    <tr>\n",
       "      <th>2</th>\n",
       "      <td>Baja California</td>\n",
       "      <td>Tijuana</td>\n",
       "      <td>2007</td>\n",
       "      <td>1</td>\n",
       "      <td>10</td>\n",
       "      <td>Mom and Pop Store</td>\n",
       "      <td>10.0</td>\n",
       "    </tr>\n",
       "    <tr>\n",
       "      <th>3</th>\n",
       "      <td>Baja California Sur</td>\n",
       "      <td>La Paz</td>\n",
       "      <td>2007</td>\n",
       "      <td>1</td>\n",
       "      <td>10</td>\n",
       "      <td>Mom and Pop Store</td>\n",
       "      <td>10.0</td>\n",
       "    </tr>\n",
       "    <tr>\n",
       "      <th>4</th>\n",
       "      <td>Campeche</td>\n",
       "      <td>Campeche</td>\n",
       "      <td>2007</td>\n",
       "      <td>1</td>\n",
       "      <td>10</td>\n",
       "      <td>Mom and Pop Store</td>\n",
       "      <td>10.0</td>\n",
       "    </tr>\n",
       "  </tbody>\n",
       "</table>\n",
       "</div>"
      ],
      "text/plain": [
       "                 State            City  Year  Month  Day         Store type  \\\n",
       "0       Aguascalientes  Aguascalientes  2007      1   10  Mom and Pop Store   \n",
       "1      Baja California        Mexicali  2007      1   10  Mom and Pop Store   \n",
       "2      Baja California         Tijuana  2007      1   10  Mom and Pop Store   \n",
       "3  Baja California Sur          La Paz  2007      1   10  Mom and Pop Store   \n",
       "4             Campeche        Campeche  2007      1   10  Mom and Pop Store   \n",
       "\n",
       "   Price per kilogram  \n",
       "0                 9.9  \n",
       "1                 NaN  \n",
       "2                10.0  \n",
       "3                10.0  \n",
       "4                10.0  "
      ]
     },
     "execution_count": 17,
     "metadata": {},
     "output_type": "execute_result"
    }
   ],
   "source": [
    "data.head()"
   ]
  },
  {
   "cell_type": "code",
   "execution_count": 18,
   "metadata": {},
   "outputs": [
    {
     "name": "stdout",
     "output_type": "stream",
     "text": [
      "<class 'pandas.core.frame.DataFrame'>\n",
      "RangeIndex: 278886 entries, 0 to 278885\n",
      "Data columns (total 7 columns):\n",
      " #   Column              Non-Null Count   Dtype  \n",
      "---  ------              --------------   -----  \n",
      " 0   State               278886 non-null  object \n",
      " 1   City                278886 non-null  object \n",
      " 2   Year                278886 non-null  int64  \n",
      " 3   Month               278886 non-null  int64  \n",
      " 4   Day                 278886 non-null  int64  \n",
      " 5   Store type          278886 non-null  object \n",
      " 6   Price per kilogram  272496 non-null  float64\n",
      "dtypes: float64(1), int64(3), object(3)\n",
      "memory usage: 14.9+ MB\n"
     ]
    }
   ],
   "source": [
    "#Overview of the data\n",
    "data.info()"
   ]
  },
  {
   "cell_type": "code",
   "execution_count": 19,
   "metadata": {},
   "outputs": [
    {
     "data": {
      "text/plain": [
       "State                    0\n",
       "City                     0\n",
       "Year                     0\n",
       "Month                    0\n",
       "Day                      0\n",
       "Store type               0\n",
       "Price per kilogram    6390\n",
       "dtype: int64"
      ]
     },
     "execution_count": 19,
     "metadata": {},
     "output_type": "execute_result"
    }
   ],
   "source": [
    "#Checking the missing values\n",
    "data.isnull().sum()"
   ]
  },
  {
   "cell_type": "markdown",
   "metadata": {},
   "source": [
    "## Solving data cleaning problems "
   ]
  },
  {
   "cell_type": "code",
   "execution_count": 20,
   "metadata": {},
   "outputs": [
    {
     "data": {
      "text/plain": [
       "State                 0\n",
       "City                  0\n",
       "Year                  0\n",
       "Month                 0\n",
       "Day                   0\n",
       "Store type            0\n",
       "Price per kilogram    0\n",
       "dtype: int64"
      ]
     },
     "execution_count": 20,
     "metadata": {},
     "output_type": "execute_result"
    }
   ],
   "source": [
    "#Drop the missing values\n",
    "data.dropna(inplace=True)\n",
    "data.isnull().sum()"
   ]
  },
  {
   "cell_type": "code",
   "execution_count": 21,
   "metadata": {},
   "outputs": [
    {
     "data": {
      "text/plain": [
       "0"
      ]
     },
     "execution_count": 21,
     "metadata": {},
     "output_type": "execute_result"
    }
   ],
   "source": [
    "#Drop the duplicate values\n",
    "data.drop_duplicates(inplace=True)\n",
    "data.duplicated().sum()"
   ]
  },
  {
   "cell_type": "code",
   "execution_count": 22,
   "metadata": {},
   "outputs": [
    {
     "data": {
      "text/plain": [
       "Year\n",
       "2012    17032\n",
       "2014    16938\n",
       "2013    16696\n",
       "2015    16576\n",
       "2016    16537\n",
       "2018    16304\n",
       "2007    16124\n",
       "2017    16092\n",
       "2023    15950\n",
       "2022    15896\n",
       "2011    15750\n",
       "2008    15726\n",
       "2010    15645\n",
       "2021    15566\n",
       "2019    15306\n",
       "2009    15184\n",
       "2020    12476\n",
       "2024     2698\n",
       "Name: count, dtype: int64"
      ]
     },
     "execution_count": 22,
     "metadata": {},
     "output_type": "execute_result"
    }
   ],
   "source": [
    "#Number of rows per year\n",
    "data['Year'].value_counts()"
   ]
  },
  {
   "cell_type": "code",
   "execution_count": 23,
   "metadata": {},
   "outputs": [
    {
     "data": {
      "text/plain": [
       "Year\n",
       "2012    17032\n",
       "2014    16938\n",
       "2013    16696\n",
       "2015    16576\n",
       "2016    16537\n",
       "2018    16304\n",
       "2007    16124\n",
       "2017    16092\n",
       "2023    15950\n",
       "2022    15896\n",
       "2011    15750\n",
       "2008    15726\n",
       "2010    15645\n",
       "2021    15566\n",
       "2019    15306\n",
       "2009    15184\n",
       "2020    12476\n",
       "Name: count, dtype: int64"
      ]
     },
     "execution_count": 23,
     "metadata": {},
     "output_type": "execute_result"
    }
   ],
   "source": [
    "#Drop the rows with year 2024 due to the small data volume\n",
    "data = data[data['Year'] != 2024]\n",
    "data['Year'].value_counts()"
   ]
  },
  {
   "cell_type": "code",
   "execution_count": 24,
   "metadata": {},
   "outputs": [
    {
     "name": "stderr",
     "output_type": "stream",
     "text": [
      "C:\\Users\\yahya\\AppData\\Local\\Temp\\ipykernel_13104\\203136021.py:2: SettingWithCopyWarning: \n",
      "A value is trying to be set on a copy of a slice from a DataFrame.\n",
      "Try using .loc[row_indexer,col_indexer] = value instead\n",
      "\n",
      "See the caveats in the documentation: https://pandas.pydata.org/pandas-docs/stable/user_guide/indexing.html#returning-a-view-versus-a-copy\n",
      "  data['Date'] = pd.to_datetime(data[['Year', 'Month', 'Day']])\n",
      "C:\\Users\\yahya\\AppData\\Local\\Temp\\ipykernel_13104\\203136021.py:3: SettingWithCopyWarning: \n",
      "A value is trying to be set on a copy of a slice from a DataFrame\n",
      "\n",
      "See the caveats in the documentation: https://pandas.pydata.org/pandas-docs/stable/user_guide/indexing.html#returning-a-view-versus-a-copy\n",
      "  data.drop(['Day', 'Month', 'Year'], axis=1, inplace=True)\n"
     ]
    },
    {
     "data": {
      "text/html": [
       "<div>\n",
       "<style scoped>\n",
       "    .dataframe tbody tr th:only-of-type {\n",
       "        vertical-align: middle;\n",
       "    }\n",
       "\n",
       "    .dataframe tbody tr th {\n",
       "        vertical-align: top;\n",
       "    }\n",
       "\n",
       "    .dataframe thead th {\n",
       "        text-align: right;\n",
       "    }\n",
       "</style>\n",
       "<table border=\"1\" class=\"dataframe\">\n",
       "  <thead>\n",
       "    <tr style=\"text-align: right;\">\n",
       "      <th></th>\n",
       "      <th>State</th>\n",
       "      <th>City</th>\n",
       "      <th>Store type</th>\n",
       "      <th>Price per kilogram</th>\n",
       "      <th>Date</th>\n",
       "    </tr>\n",
       "  </thead>\n",
       "  <tbody>\n",
       "    <tr>\n",
       "      <th>0</th>\n",
       "      <td>Aguascalientes</td>\n",
       "      <td>Aguascalientes</td>\n",
       "      <td>Mom and Pop Store</td>\n",
       "      <td>9.9</td>\n",
       "      <td>2007-01-10</td>\n",
       "    </tr>\n",
       "    <tr>\n",
       "      <th>2</th>\n",
       "      <td>Baja California</td>\n",
       "      <td>Tijuana</td>\n",
       "      <td>Mom and Pop Store</td>\n",
       "      <td>10.0</td>\n",
       "      <td>2007-01-10</td>\n",
       "    </tr>\n",
       "    <tr>\n",
       "      <th>3</th>\n",
       "      <td>Baja California Sur</td>\n",
       "      <td>La Paz</td>\n",
       "      <td>Mom and Pop Store</td>\n",
       "      <td>10.0</td>\n",
       "      <td>2007-01-10</td>\n",
       "    </tr>\n",
       "    <tr>\n",
       "      <th>4</th>\n",
       "      <td>Campeche</td>\n",
       "      <td>Campeche</td>\n",
       "      <td>Mom and Pop Store</td>\n",
       "      <td>10.0</td>\n",
       "      <td>2007-01-10</td>\n",
       "    </tr>\n",
       "    <tr>\n",
       "      <th>5</th>\n",
       "      <td>Coahuila</td>\n",
       "      <td>Piedras Negras</td>\n",
       "      <td>Mom and Pop Store</td>\n",
       "      <td>10.0</td>\n",
       "      <td>2007-01-10</td>\n",
       "    </tr>\n",
       "  </tbody>\n",
       "</table>\n",
       "</div>"
      ],
      "text/plain": [
       "                 State            City         Store type  Price per kilogram  \\\n",
       "0       Aguascalientes  Aguascalientes  Mom and Pop Store                 9.9   \n",
       "2      Baja California         Tijuana  Mom and Pop Store                10.0   \n",
       "3  Baja California Sur          La Paz  Mom and Pop Store                10.0   \n",
       "4             Campeche        Campeche  Mom and Pop Store                10.0   \n",
       "5             Coahuila  Piedras Negras  Mom and Pop Store                10.0   \n",
       "\n",
       "        Date  \n",
       "0 2007-01-10  \n",
       "2 2007-01-10  \n",
       "3 2007-01-10  \n",
       "4 2007-01-10  \n",
       "5 2007-01-10  "
      ]
     },
     "execution_count": 24,
     "metadata": {},
     "output_type": "execute_result"
    }
   ],
   "source": [
    "#Fusion of the columns 'Day' and 'Month' and 'Year' to create a new column 'Date'\n",
    "data['Date'] = pd.to_datetime(data[['Year', 'Month', 'Day']])\n",
    "data.drop(['Day', 'Month', 'Year'], axis=1, inplace=True)\n",
    "data.head()"
   ]
  },
  {
   "cell_type": "markdown",
   "metadata": {},
   "source": [
    "## Exploratory Data Analysis"
   ]
  },
  {
   "cell_type": "code",
   "execution_count": 11,
   "metadata": {},
   "outputs": [
    {
     "data": {
      "text/html": [
       "<div>\n",
       "<style scoped>\n",
       "    .dataframe tbody tr th:only-of-type {\n",
       "        vertical-align: middle;\n",
       "    }\n",
       "\n",
       "    .dataframe tbody tr th {\n",
       "        vertical-align: top;\n",
       "    }\n",
       "\n",
       "    .dataframe thead th {\n",
       "        text-align: right;\n",
       "    }\n",
       "</style>\n",
       "<table border=\"1\" class=\"dataframe\">\n",
       "  <thead>\n",
       "    <tr style=\"text-align: right;\">\n",
       "      <th></th>\n",
       "      <th>Year</th>\n",
       "      <th>Month</th>\n",
       "      <th>Day</th>\n",
       "      <th>Price per kilogram</th>\n",
       "    </tr>\n",
       "  </thead>\n",
       "  <tbody>\n",
       "    <tr>\n",
       "      <th>count</th>\n",
       "      <td>269798.000000</td>\n",
       "      <td>269798.000000</td>\n",
       "      <td>269798.000000</td>\n",
       "      <td>269798.000000</td>\n",
       "    </tr>\n",
       "    <tr>\n",
       "      <th>mean</th>\n",
       "      <td>2014.928376</td>\n",
       "      <td>6.430177</td>\n",
       "      <td>15.947576</td>\n",
       "      <td>11.980866</td>\n",
       "    </tr>\n",
       "    <tr>\n",
       "      <th>std</th>\n",
       "      <td>4.859964</td>\n",
       "      <td>3.435612</td>\n",
       "      <td>8.755777</td>\n",
       "      <td>4.256761</td>\n",
       "    </tr>\n",
       "    <tr>\n",
       "      <th>min</th>\n",
       "      <td>2007.000000</td>\n",
       "      <td>1.000000</td>\n",
       "      <td>1.000000</td>\n",
       "      <td>0.000000</td>\n",
       "    </tr>\n",
       "    <tr>\n",
       "      <th>25%</th>\n",
       "      <td>2011.000000</td>\n",
       "      <td>3.000000</td>\n",
       "      <td>8.000000</td>\n",
       "      <td>9.560000</td>\n",
       "    </tr>\n",
       "    <tr>\n",
       "      <th>50%</th>\n",
       "      <td>2015.000000</td>\n",
       "      <td>6.000000</td>\n",
       "      <td>16.000000</td>\n",
       "      <td>11.130000</td>\n",
       "    </tr>\n",
       "    <tr>\n",
       "      <th>75%</th>\n",
       "      <td>2019.000000</td>\n",
       "      <td>9.000000</td>\n",
       "      <td>24.000000</td>\n",
       "      <td>14.000000</td>\n",
       "    </tr>\n",
       "    <tr>\n",
       "      <th>max</th>\n",
       "      <td>2023.000000</td>\n",
       "      <td>12.000000</td>\n",
       "      <td>31.000000</td>\n",
       "      <td>30.830000</td>\n",
       "    </tr>\n",
       "  </tbody>\n",
       "</table>\n",
       "</div>"
      ],
      "text/plain": [
       "                Year          Month            Day  Price per kilogram\n",
       "count  269798.000000  269798.000000  269798.000000       269798.000000\n",
       "mean     2014.928376       6.430177      15.947576           11.980866\n",
       "std         4.859964       3.435612       8.755777            4.256761\n",
       "min      2007.000000       1.000000       1.000000            0.000000\n",
       "25%      2011.000000       3.000000       8.000000            9.560000\n",
       "50%      2015.000000       6.000000      16.000000           11.130000\n",
       "75%      2019.000000       9.000000      24.000000           14.000000\n",
       "max      2023.000000      12.000000      31.000000           30.830000"
      ]
     },
     "execution_count": 11,
     "metadata": {},
     "output_type": "execute_result"
    }
   ],
   "source": [
    "data.describe()"
   ]
  },
  {
   "cell_type": "code",
   "execution_count": 12,
   "metadata": {},
   "outputs": [
    {
     "data": {
      "image/png": "[encoded data removed]",
      "text/plain": [
       "<Figure size 800x600 with 1 Axes>"
      ]
     },
     "metadata": {},
     "output_type": "display_data"
    }
   ],
   "source": [
    "#Plot the distribution of the 'Price per kilogram'\n",
    "plt.figure(figsize=(8, 6))\n",
    "sns.histplot(data=data, x='Price per kilogram', bins=20, kde=True)\n",
    "plt.title('Distribution of Price per kilogram')\n",
    "plt.xlabel('Price per kilogram')\n",
    "plt.ylabel('Frequency')\n",
    "plt.show()"
   ]
  },
  {
   "cell_type": "code",
   "execution_count": 13,
   "metadata": {},
   "outputs": [
    {
     "data": {
      "image/png": "[encoded data removed]",
      "text/plain": [
       "<Figure size 800x600 with 1 Axes>"
      ]
     },
     "metadata": {},
     "output_type": "display_data"
    }
   ],
   "source": [
    "#illustrates the difference in tortilla prices in big retail stores compared to small \"mom and pops shops\" with a graph\n",
    "plt.figure(figsize=(8, 6))\n",
    "sns.lineplot(data=data, x='Year', y='Price per kilogram', hue='Store type')\n",
    "plt.title('Price per kilogram over time by Store type')\n",
    "plt.xlabel('Date')\n",
    "plt.ylabel('Price per kilogram')\n",
    "plt.show()\n"
   ]
  },
  {
   "cell_type": "code",
   "execution_count": 14,
   "metadata": {},
   "outputs": [
    {
     "data": {
      "image/png": "[encoded data removed]",
      "text/plain": [
       "<Figure size 800x600 with 1 Axes>"
      ]
     },
     "metadata": {},
     "output_type": "display_data"
    }
   ],
   "source": [
    "#Plot a box plot of the 'Price per kilogram'\n",
    "plt.figure(figsize=(8, 6))\n",
    "sns.boxplot(data=data, x='Price per kilogram')\n",
    "plt.title('Box plot of Price per kilogram')\n",
    "plt.xlabel('Price per kilogram')\n",
    "plt.show()"
   ]
  },
  {
   "cell_type": "markdown",
   "metadata": {},
   "source": [
    "## Model Building"
   ]
  },
  {
   "cell_type": "code",
   "execution_count": 16,
   "metadata": {},
   "outputs": [],
   "source": [
    "from sklearn.linear_model import LinearRegression\n",
    "from sklearn.ensemble import RandomForestRegressor\n",
    "from sklearn.tree import DecisionTreeRegressor\n",
    "from sklearn.model_selection import train_test_split\n",
    "from sklearn.metrics import mean_squared_error"
   ]
  },
  {
   "cell_type": "code",
   "execution_count": 17,
   "metadata": {},
   "outputs": [],
   "source": [
    "# Fill missing numeric values with the median\n",
    "numeric_cols = data.select_dtypes(include=[np.number]).columns\n",
    "data[numeric_cols] = data[numeric_cols].apply(lambda x: x.fillna(x.median()))\n",
    "\n",
    "# Convert categorical variables to numeric by one-hot encoding\n",
    "categorical_cols = data.select_dtypes(include=['object', 'category']).columns\n",
    "data = pd.get_dummies(data, columns=categorical_cols)\n",
    "\n",
    "# Define the features (X) and the target variable (y)\n",
    "X = data.drop('Price per kilogram', axis=1)  # Assuming 'Price per kilogram' is the target\n",
    "y = data['Price per kilogram']\n",
    "\n",
    "# Split the data into training and validation sets\n",
    "X_train, X_validation, Y_train, Y_validation = train_test_split(X, y, test_size=0.20, random_state=1)\n",
    "\n",
    "#Initialize the models\n",
    "models = {\n",
    "    'Linear Regression': LinearRegression(),\n",
    "    'Random Forest Regressor': RandomForestRegressor(n_estimators=10, random_state=1),\n",
    "    'Decision Tree Regressor': DecisionTreeRegressor(random_state=1)\n",
    "}"
   ]
  },
  {
   "cell_type": "markdown",
   "metadata": {},
   "source": [
    "## Evaluating Models"
   ]
  },
  {
   "cell_type": "code",
   "execution_count": 18,
   "metadata": {},
   "outputs": [
    {
     "name": "stdout",
     "output_type": "stream",
     "text": [
      "Linear Regression Mean Squared Error: 2.973563405153055\n",
      "Random Forest Regressor Mean Squared Error: 0.015136866549295773\n",
      "Decision Tree Regressor Mean Squared Error: 0.0194605133432172\n"
     ]
    }
   ],
   "source": [
    "# Dictionary to hold model performance\n",
    "model_performance = {}\n",
    "\n",
    "# Training and evaluating each model\n",
    "for name, model in models.items():\n",
    "    model.fit(X_train, Y_train)\n",
    "    Y_pred = model.predict(X_validation)\n",
    "    mse = mean_squared_error(Y_validation, Y_pred)\n",
    "    model_performance[name] = mse\n",
    "    print(f'{name} Mean Squared Error: {mse}')"
   ]
  },
  {
   "cell_type": "code",
   "execution_count": 20,
   "metadata": {},
   "outputs": [
    {
     "data": {
      "image/png": "[encoded data removed]",
      "text/plain": [
       "<Figure size 1000x600 with 1 Axes>"
      ]
     },
     "metadata": {},
     "output_type": "display_data"
    }
   ],
   "source": [
    "#Comparing Algorithms \n",
    "plt.figure(figsize=(10, 6))\n",
    "plt.bar(model_performance.keys(), model_performance.values())\n",
    "plt.title('Model Performance')\n",
    "plt.xlabel('Model')\n",
    "plt.ylabel('Mean Squared Error')\n",
    "plt.show()\n"
   ]
  }
 ],
 "metadata": {
  "kernelspec": {
   "display_name": "Python 3",
   "language": "python",
   "name": "python3"
  },
  "language_info": {
   "codemirror_mode": {
    "name": "ipython",
    "version": 3
   },
   "file_extension": ".py",
   "mimetype": "text/x-python",
   "name": "python",
   "nbconvert_exporter": "python",
   "pygments_lexer": "ipython3",
   "version": "3.11.2"
  }
 },
 "nbformat": 4,
 "nbformat_minor": 2
}
